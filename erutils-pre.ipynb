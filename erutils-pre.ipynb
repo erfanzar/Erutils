{
 "cells": [
  {
   "cell_type": "code",
   "execution_count": 1,
   "metadata": {
    "collapsed": true,
    "pycharm": {
     "name": "#%%\n"
    }
   },
   "outputs": [],
   "source": [
    "import numpy as np\n",
    "import matplotlib.pyplot as plt\n",
    "from matplotlib.patches import Rectangle\n",
    "import cv2 as cv"
   ]
  },
  {
   "cell_type": "code",
   "execution_count": 31,
   "outputs": [],
   "source": [
    "box = np.array([[120, 230, 480, 630], [90, 200, 400, 500]])\n"
   ],
   "metadata": {
    "collapsed": false,
    "pycharm": {
     "name": "#%%\n"
    }
   }
  },
  {
   "cell_type": "code",
   "execution_count": 17,
   "outputs": [],
   "source": [
    "def xxyy_to_xyxy(box):\n",
    "    if len(box.shape) == 1:\n",
    "        box = np.expand_dims(box, 0)\n",
    "        print(box.shape)\n",
    "    if box.shape[-1] != 4:\n",
    "        box = box.T\n",
    "    x1, y1, x2, y2 = box[:, 0], box[:, 2], box[:, 1], box[:, 3]\n",
    "    box = np.array([x1, y1, x2, y2])\n",
    "    return box.T"
   ],
   "metadata": {
    "collapsed": false,
    "pycharm": {
     "name": "#%%\n"
    }
   }
  },
  {
   "cell_type": "code",
   "execution_count": 18,
   "outputs": [],
   "source": [
    "bo = xxyy_to_xyxy(box)"
   ],
   "metadata": {
    "collapsed": false,
    "pycharm": {
     "name": "#%%\n"
    }
   }
  },
  {
   "cell_type": "code",
   "execution_count": 23,
   "outputs": [],
   "source": [
    "def iou_f(box1, box2):\n",
    "    print(box1)\n",
    "    print(box2)\n",
    "    xma = max(box1[..., 0], box2[..., 0])\n",
    "    yma = max(box1[..., 1], box2[..., 1])\n",
    "    xmi = min(box1[..., 2], box2[..., 2])\n",
    "    ymi = min(box1[..., 3], box2[..., 3])\n",
    "\n",
    "    i_area = abs(max(xma - xmi, 0) * max(yma - ymi, 0))\n",
    "\n",
    "    box1_area = abs((box1[..., 2] - box1[..., 0]) * (box1[..., 3] - box1[..., 1]))\n",
    "    box2_area = abs((box2[..., 2] - box2[..., 0]) * (box2[..., 3] - box2[..., 1]))\n",
    "    result = i_area / float(box2_area + box1_area - i_area)\n",
    "    return result"
   ],
   "metadata": {
    "collapsed": false,
    "pycharm": {
     "name": "#%%\n"
    }
   }
  },
  {
   "cell_type": "code",
   "execution_count": 5,
   "outputs": [],
   "source": [
    "list_color = [\n",
    "    [255, 0, 0],\n",
    "    [0, 255, 0],\n",
    "    [0, 0, 255],\n",
    "    [255, 255, 0],\n",
    "    [0, 255, 255],\n",
    "    [255, 0, 255],\n",
    "    [100, 200, 220],\n",
    "]\n",
    "\n",
    "\n",
    "def draw_rec(x1, x2, y1, y2, img_size: int = 640, thickness=3):\n",
    "    fig, ax = plt.subplots()\n",
    "    assert (max(x1) <= img_size and max(x2) <= img_size and max(y1) <= img_size and max(\n",
    "        y2) <= img_size), 'image size must be bigger than coordination or equal'\n",
    "    frame = np.zeros((img_size, img_size, 3), dtype=np.uint8)\n",
    "    frame[:, :] = [255, 255, 255]\n",
    "    print(f'x1, y1, x2, y2 : {x1, y1, x2, y2}')\n",
    "    for i, (_x1, _x2, _y1, _y2) in enumerate(zip(x1, x2, y1, y2)):\n",
    "        for h in range(img_size):\n",
    "            for w in range(img_size):\n",
    "                if _x1 < w < _x2 and _y1 < h < _y2:\n",
    "                    if _x1 < w < _x1 + thickness or _y1 < h < _y1 + thickness or _x2 - thickness < w < _x2 or _y2 - thickness < h < _y2:\n",
    "                        frame[h, w] = list_color[i]\n",
    "\n",
    "    plt.imshow(frame)\n",
    "    return frame"
   ],
   "metadata": {
    "collapsed": false,
    "pycharm": {
     "name": "#%%\n"
    }
   }
  },
  {
   "cell_type": "code",
   "execution_count": 6,
   "outputs": [
    {
     "name": "stdout",
     "output_type": "stream",
     "text": [
      "x1, y1, x2, y2 : (array([120,  90]), array([480, 400]), array([230, 200]), array([630, 500]))\n"
     ]
    },
    {
     "data": {
      "text/plain": "<Figure size 640x480 with 1 Axes>",
      "image/png": "[encoded data removed]"
     },
     "metadata": {},
     "output_type": "display_data"
    }
   ],
   "source": [
    "# draw_rec(x1, y1, x2, y2)"
   ],
   "metadata": {
    "collapsed": false,
    "pycharm": {
     "name": "#%%\n"
    }
   }
  },
  {
   "cell_type": "code",
   "execution_count": 71,
   "outputs": [
    {
     "data": {
      "text/plain": "tensor(120)"
     },
     "execution_count": 71,
     "metadata": {},
     "output_type": "execute_result"
    }
   ],
   "source": [
    "torch.max(torch.tensor(120), torch.tensor(90))"
   ],
   "metadata": {
    "collapsed": false,
    "pycharm": {
     "name": "#%%\n"
    }
   }
  },
  {
   "cell_type": "code",
   "execution_count": 63,
   "outputs": [],
   "source": [
    "# print(bo.shape)\n",
    "def bbox_iou(box1, box2, x1y1x2y2=True, GIoU=False, DIoU=False, CIoU=False, eps=1e-7):\n",
    "    # Returns the IoU of box1 to box2. box1 is 4, box2 is nx4\n",
    "    box2 = box2.T\n",
    "\n",
    "    # Get the coordinates of bounding boxes\n",
    "    if x1y1x2y2:  # x1, y1, x2, y2 = box1\n",
    "        b1_x1, b1_y1, b1_x2, b1_y2 = box1[0], box1[1], box1[2], box1[3]\n",
    "        b2_x1, b2_y1, b2_x2, b2_y2 = box2[0], box2[1], box2[2], box2[3]\n",
    "    else:  # transform from xywh to xyxy\n",
    "        b1_x1, b1_x2 = box1[0] - box1[2] / 2, box1[0] + box1[2] / 2\n",
    "        b1_y1, b1_y2 = box1[1] - box1[3] / 2, box1[1] + box1[3] / 2\n",
    "        b2_x1, b2_x2 = box2[0] - box2[2] / 2, box2[0] + box2[2] / 2\n",
    "        b2_y1, b2_y2 = box2[1] - box2[3] / 2, box2[1] + box2[3] / 2\n",
    "\n",
    "    print(f'b1_x1 : {b1_x1}')\n",
    "    print(f'b1_y1 : {b1_y1}')\n",
    "    print(f'b1_x2 : {b1_x2}')\n",
    "    print(f'b1_y2 : {b1_y2}')\n",
    "    print(f'b2_x1 : {b2_x1}')\n",
    "    print(f'b2_y1 : {b2_y1}')\n",
    "    print(f'b2_x2 : {b2_x2}')\n",
    "    print(f'b2_y2 : {b2_y2}')\n",
    "    # Intersection area\n",
    "    inter = (torch.min(b1_x2, b2_x2) - torch.max(b1_x1, b2_x1)).clamp(0) * (\n",
    "                torch.min(b1_y2, b2_y2) - torch.max(b1_y1, b2_y1)).clamp(0)\n",
    "    print(f'inter  : {inter}')\n",
    "    # Union Area\n",
    "    w1, h1 = b1_x2 - b1_x1, b1_y2 - b1_y1 + eps\n",
    "    w2, h2 = b2_x2 - b2_x1, b2_y2 - b2_y1 + eps\n",
    "    union = w1 * h1 + w2 * h2 - inter + eps\n",
    "\n",
    "    print(f'w1  : {w1}')\n",
    "    print(f'h1  : {h1}')\n",
    "    print(f'w2  : {w2}')\n",
    "    print(f'h2  : {h2}')\n",
    "    iou = inter / union\n",
    "\n",
    "    if GIoU or DIoU or CIoU:\n",
    "        cw = torch.max(b1_x2, b2_x2) - torch.min(b1_x1, b2_x1)  # convex (smallest enclosing box) width\n",
    "        ch = torch.max(b1_y2, b2_y2) - torch.min(b1_y1, b2_y1)  # convex height\n",
    "        if CIoU or DIoU:  # Distance or Complete IoU https://arxiv.org/abs/1911.08287v1\n",
    "            c2 = cw ** 2 + ch ** 2 + eps  # convex diagonal squared\n",
    "            rho2 = ((b2_x1 + b2_x2 - b1_x1 - b1_x2) ** 2 +\n",
    "                    (b2_y1 + b2_y2 - b1_y1 - b1_y2) ** 2) / 4  # center distance squared\n",
    "            if DIoU:\n",
    "                return iou - rho2 / c2  # DIoU\n",
    "            elif CIoU:  # https://github.com/Zzh-tju/DIoU-SSD-pytorch/blob/master/utils/box/box_utils.py#L47\n",
    "                v = (4 / math.pi ** 2) * torch.pow(torch.atan(w2 / (h2 + eps)) - torch.atan(w1 / (h1 + eps)), 2)\n",
    "                with torch.no_grad():\n",
    "                    alpha = v / (v - iou + (1 + eps))\n",
    "                return iou - (rho2 / c2 + v * alpha)  # CIoU\n",
    "        else:  # GIoU https://arxiv.org/pdf/1902.09630.pdf\n",
    "            c_area = cw * ch + eps  # convex area\n",
    "            return iou - (c_area - union) / c_area  # GIoU\n",
    "    else:\n",
    "        return iou  # IoU\n"
   ],
   "metadata": {
    "collapsed": false,
    "pycharm": {
     "name": "#%%\n"
    }
   }
  },
  {
   "cell_type": "code",
   "execution_count": 94,
   "outputs": [],
   "source": [
    "def l_iou(box_1, box_2):\n",
    "    # box_2 = box_2.T\n",
    "    b1_x1, b1_y1, b1_x2, b1_y2 = box_1\n",
    "    b2_x1, b2_y1, b2_x2, b2_y2 = box_2\n",
    "\n",
    "    inter = (torch.min(b1_x2, b2_x2) - torch.max(b1_x1, b2_x1)) * (torch.min(b1_y2, b2_y2) - torch.max(b1_y1, b2_y1))\n",
    "    # print(f'inter : {inter}')\n",
    "    w1, h1 = b1_x2 - b1_x1, b1_y2 - b1_y1 + 1e-7\n",
    "    w2, h2 = b2_x2 - b2_x1, b2_y2 - b2_y1 + 1e-7\n",
    "    # print(f'w1 : {w1}')\n",
    "    # print(f'h1 : {h1}')\n",
    "    # print(f'w2 : {w2}')\n",
    "    # print(f'h2 : {h2}')\n",
    "    # print(f'h2*w2 : {h2 * w2}')\n",
    "    # print(f'h1*w1 : {h1 * w1}')\n",
    "    # print(f'w1 * h1 + w2 * h2: {w1 * h1 + w2 * h2}')\n",
    "\n",
    "    union = w1 * h1 + w2 * h2 - inter + 1e-7\n",
    "    # print(f'union  :  {union}')\n",
    "    iou_ = inter / union\n",
    "    print(iou_)\n",
    "    print('-' * 50)\n",
    "    return iou_"
   ],
   "metadata": {
    "collapsed": false,
    "pycharm": {
     "name": "#%%\n"
    }
   }
  },
  {
   "cell_type": "code",
   "execution_count": 83,
   "outputs": [
    {
     "name": "stdout",
     "output_type": "stream",
     "text": [
      "tensor(0.4684)\n",
      "--------------------------------------------------\n",
      "b1_x1 : 120\n",
      "b1_y1 : 230\n",
      "b1_x2 : 480\n",
      "b1_y2 : 630\n",
      "b2_x1 : 90\n",
      "b2_y1 : 200\n",
      "b2_x2 : 400\n",
      "b2_y2 : 500\n",
      "inter  : 75600\n",
      "w1  : 360\n",
      "h1  : 400.0\n",
      "w2  : 310\n",
      "h2  : 300.0\n"
     ]
    },
    {
     "data": {
      "text/plain": "tensor(0.4684)"
     },
     "execution_count": 83,
     "metadata": {},
     "output_type": "execute_result"
    }
   ],
   "source": [
    "import torch\n",
    "\n",
    "b1_ = torch.from_numpy(box[0])\n",
    "b2_ = torch.from_numpy(box[1])\n",
    "l_iou(b1_, b2_)\n",
    "bbox_iou(b1_, b2_, x1y1x2y2=True)"
   ],
   "metadata": {
    "collapsed": false,
    "pycharm": {
     "name": "#%%\n"
    }
   }
  },
  {
   "cell_type": "code",
   "execution_count": 49,
   "outputs": [
    {
     "data": {
      "text/plain": "<Figure size 640x480 with 1 Axes>",
      "image/png": "[encoded data removed]"
     },
     "metadata": {},
     "output_type": "display_data"
    }
   ],
   "source": [
    "import matplotlib.pyplot as plt\n",
    "from matplotlib.patches import Rectangle\n",
    "\n",
    "fig, ax = plt.subplots()\n",
    "ax.plot([1, 5, 2], [2, 3, 4], color=\"cyan\")\n",
    "ax.add_patch(Rectangle((2, 2), 1, 3, color=\"yellow\"))\n",
    "plt.xlabel(\"X-AXIS\")\n",
    "plt.ylabel(\"Y-AXIS\")\n",
    "plt.title(\"PLOT-1\")\n",
    "plt.show()"
   ],
   "metadata": {
    "collapsed": false,
    "pycharm": {
     "name": "#%%\n"
    }
   }
  },
  {
   "cell_type": "code",
   "execution_count": 72,
   "outputs": [],
   "source": [
    "inter = (120 - 400) * (230 - 500)"
   ],
   "metadata": {
    "collapsed": false,
    "pycharm": {
     "name": "#%%\n"
    }
   }
  },
  {
   "cell_type": "code",
   "execution_count": 73,
   "outputs": [
    {
     "data": {
      "text/plain": "75600"
     },
     "execution_count": 73,
     "metadata": {},
     "output_type": "execute_result"
    }
   ],
   "source": [
    "inter"
   ],
   "metadata": {
    "collapsed": false,
    "pycharm": {
     "name": "#%%\n"
    }
   }
  },
  {
   "cell_type": "code",
   "execution_count": 74,
   "outputs": [],
   "source": [
    "union = (110 * 150) + (310 * 300) - inter"
   ],
   "metadata": {
    "collapsed": false,
    "pycharm": {
     "name": "#%%\n"
    }
   }
  },
  {
   "cell_type": "code",
   "execution_count": 75,
   "outputs": [
    {
     "data": {
      "text/plain": "33900"
     },
     "execution_count": 75,
     "metadata": {},
     "output_type": "execute_result"
    }
   ],
   "source": [
    "union"
   ],
   "metadata": {
    "collapsed": false,
    "pycharm": {
     "name": "#%%\n"
    }
   }
  },
  {
   "cell_type": "code",
   "execution_count": 76,
   "outputs": [
    {
     "data": {
      "text/plain": "2.230088495575221"
     },
     "execution_count": 76,
     "metadata": {},
     "output_type": "execute_result"
    }
   ],
   "source": [
    "inter / union"
   ],
   "metadata": {
    "collapsed": false,
    "pycharm": {
     "name": "#%%\n"
    }
   }
  },
  {
   "cell_type": "code",
   "execution_count": 95,
   "outputs": [
    {
     "name": "stdout",
     "output_type": "stream",
     "text": [
      "tensor(0.4684)\n",
      "--------------------------------------------------\n"
     ]
    },
    {
     "data": {
      "text/plain": "tensor(0.4684)"
     },
     "execution_count": 95,
     "metadata": {},
     "output_type": "execute_result"
    }
   ],
   "source": [
    "box_1_ = torch.tensor([120, 230, 480, 630])\n",
    "box_2_ = torch.tensor([90, 200, 400, 500])\n",
    "l_iou(box_1_, box_2_)"
   ],
   "metadata": {
    "collapsed": false,
    "pycharm": {
     "name": "#%%\n"
    }
   }
  },
  {
   "cell_type": "code",
   "execution_count": 96,
   "outputs": [],
   "source": [
    "union = 237000-75600"
   ],
   "metadata": {
    "collapsed": false,
    "pycharm": {
     "name": "#%%\n"
    }
   }
  },
  {
   "cell_type": "code",
   "execution_count": 97,
   "outputs": [],
   "source": [
    "inter = 75600"
   ],
   "metadata": {
    "collapsed": false,
    "pycharm": {
     "name": "#%%\n"
    }
   }
  },
  {
   "cell_type": "code",
   "execution_count": null,
   "outputs": [],
   "source": [
    "# inter / union\n",
    "import torch\n",
    "print(torch.__version__)"
   ],
   "metadata": {
    "collapsed": false,
    "pycharm": {
     "name": "#%%\n",
     "is_executing": true
    }
   }
  },
  {
   "cell_type": "code",
   "execution_count": null,
   "outputs": [],
   "source": [],
   "metadata": {
    "collapsed": false,
    "pycharm": {
     "name": "#%%\n"
    }
   }
  }
 ],
 "metadata": {
  "kernelspec": {
   "display_name": "Python 3",
   "language": "python",
   "name": "python3"
  },
  "language_info": {
   "codemirror_mode": {
    "name": "ipython",
    "version": 2
   },
   "file_extension": ".py",
   "mimetype": "text/x-python",
   "name": "python",
   "nbconvert_exporter": "python",
   "pygments_lexer": "ipython2",
   "version": "2.7.6"
  }
 },
 "nbformat": 4,
 "nbformat_minor": 0
}
